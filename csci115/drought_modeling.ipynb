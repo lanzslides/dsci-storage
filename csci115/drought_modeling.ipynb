{
  "cells": [
    {
      "cell_type": "markdown",
      "id": "5c3c0e1b",
      "metadata": {
        "id": "5c3c0e1b"
      },
      "source": [
        "# Modelling"
      ]
    },
    {
      "cell_type": "code",
      "execution_count": 1,
      "id": "ebcdad5b",
      "metadata": {
        "id": "ebcdad5b"
      },
      "outputs": [],
      "source": [
        "import numpy as np\n",
        "from numpy.linalg import matrix_power"
      ]
    },
    {
      "cell_type": "code",
      "source": [
        "#January\n",
        "january = np.matrix([[0.761,\t0,\t0.250,\t0.250],[0.239,\t1,\t0.250,\t0.250],[0, 0, 0.250, 0.250],[0, 0, 0.250, 0.250]])\n",
        "print(january)\n",
        "\n",
        "# ssjan = np.linalg.matrix_power(january, 2)\n",
        "# print(ssjan)"
      ],
      "metadata": {
        "colab": {
          "base_uri": "https://localhost:8080/"
        },
        "id": "CkGuun-tkhBc",
        "outputId": "7834e23e-cf36-402f-cea5-8c3a4858f536"
      },
      "id": "CkGuun-tkhBc",
      "execution_count": 23,
      "outputs": [
        {
          "output_type": "stream",
          "name": "stdout",
          "text": [
            "[[0.761 0.    0.25  0.25 ]\n",
            " [0.239 1.    0.25  0.25 ]\n",
            " [0.    0.    0.25  0.25 ]\n",
            " [0.    0.    0.25  0.25 ]]\n"
          ]
        }
      ]
    },
    {
      "cell_type": "code",
      "source": [
        "#February\n",
        "february = np.matrix([[0.714, 0,\t0.250,\t0.250],[0.286, 0.733, 0.250, 0.250],[0,\t0.200,\t0.250,\t0.250],[0,\t0.067,\t0.250,\t0.250]])\n",
        "print(february)"
      ],
      "metadata": {
        "colab": {
          "base_uri": "https://localhost:8080/"
        },
        "id": "mrm45VNZkiie",
        "outputId": "c2594d2a-ccf3-4eef-d668-a6baae46d14e"
      },
      "id": "mrm45VNZkiie",
      "execution_count": 4,
      "outputs": [
        {
          "output_type": "stream",
          "name": "stdout",
          "text": [
            "[[0.714 0.    0.25  0.25 ]\n",
            " [0.286 0.733 0.25  0.25 ]\n",
            " [0.    0.2   0.25  0.25 ]\n",
            " [0.    0.067 0.25  0.25 ]]\n"
          ]
        }
      ]
    },
    {
      "cell_type": "code",
      "execution_count": 5,
      "id": "a003beef",
      "metadata": {
        "id": "a003beef",
        "outputId": "beab9e28-39d5-4731-ff72-3635777317be",
        "colab": {
          "base_uri": "https://localhost:8080/"
        }
      },
      "outputs": [
        {
          "output_type": "stream",
          "name": "stdout",
          "text": [
            "[[0.44  0.048 0.    0.   ]\n",
            " [0.56  0.429 0.333 0.   ]\n",
            " [0.    0.333 0.333 0.   ]\n",
            " [0.    0.19  0.333 1.   ]]\n"
          ]
        }
      ],
      "source": [
        "#March\n",
        "march = np.matrix([[0.440, 0.048, 0, 0], [0.560, 0.429, 0.333, 0], [0, 0.333, 0.333, 0], [0, 0.190, 0.333, 1]])\n",
        "print(march)"
      ]
    },
    {
      "cell_type": "code",
      "source": [
        "#April\n",
        "april = np.matrix([[0.167,\t0,\t0,\t0],[0.750,\t0.583,\t0,\t0.167],[0.083,\t0.125,\t0.500,\t0],[0,\t0.292,\t0.500,\t0.833]])\n",
        "print(april)"
      ],
      "metadata": {
        "colab": {
          "base_uri": "https://localhost:8080/"
        },
        "id": "N96s3MjXkwHj",
        "outputId": "e3240d90-5c78-423b-8834-117ad511414e"
      },
      "id": "N96s3MjXkwHj",
      "execution_count": 6,
      "outputs": [
        {
          "output_type": "stream",
          "name": "stdout",
          "text": [
            "[[0.167 0.    0.    0.   ]\n",
            " [0.75  0.583 0.    0.167]\n",
            " [0.083 0.125 0.5   0.   ]\n",
            " [0.    0.292 0.5   0.833]]\n"
          ]
        }
      ]
    },
    {
      "cell_type": "code",
      "source": [
        "#May\n",
        "may = np.matrix([[0, 0, 0, 0],[1,\t0.667,\t0.250,\t0.063],[0,\t0.167,\t0.375,\t0.250],[0,\t0.167,\t0.375,\t0.688]])\n",
        "print(may)"
      ],
      "metadata": {
        "colab": {
          "base_uri": "https://localhost:8080/"
        },
        "id": "0IyPztBDkwZT",
        "outputId": "709c5570-965e-4bae-f211-c35e29260f7f"
      },
      "id": "0IyPztBDkwZT",
      "execution_count": 7,
      "outputs": [
        {
          "output_type": "stream",
          "name": "stdout",
          "text": [
            "[[0.    0.    0.    0.   ]\n",
            " [1.    0.667 0.25  0.063]\n",
            " [0.    0.167 0.375 0.25 ]\n",
            " [0.    0.167 0.375 0.688]]\n"
          ]
        }
      ]
    },
    {
      "cell_type": "code",
      "source": [
        "#June\n",
        "june = np.matrix([[0.25, 0.143, 0, 0], [0.25, 0.857, 0.727, 0.222], [0.25, 0, 0.273, 0.500], [0.25, 0, 0, 0.278]])\n",
        "print(june)"
      ],
      "metadata": {
        "id": "h5LSNdabPwY0",
        "colab": {
          "base_uri": "https://localhost:8080/"
        },
        "outputId": "a9c65867-8af3-47c6-9f29-4690ed1c3348"
      },
      "id": "h5LSNdabPwY0",
      "execution_count": 8,
      "outputs": [
        {
          "output_type": "stream",
          "name": "stdout",
          "text": [
            "[[0.25  0.143 0.    0.   ]\n",
            " [0.25  0.857 0.727 0.222]\n",
            " [0.25  0.    0.273 0.5  ]\n",
            " [0.25  0.    0.    0.278]]\n"
          ]
        }
      ]
    },
    {
      "cell_type": "code",
      "source": [
        "#July\n",
        "july = np.matrix([[1,\t0.233,\t0,\t0],[0,\t0.767,\t1,\t0.800],[0,\t0,\t0,\t0.200],[0,\t0,\t0,\t0]])\n",
        "print(july)"
      ],
      "metadata": {
        "colab": {
          "base_uri": "https://localhost:8080/"
        },
        "id": "erPmIRixk2ye",
        "outputId": "8e89c95b-7fec-4235-8826-711820abc2f3"
      },
      "id": "erPmIRixk2ye",
      "execution_count": 9,
      "outputs": [
        {
          "output_type": "stream",
          "name": "stdout",
          "text": [
            "[[1.    0.233 0.    0.   ]\n",
            " [0.    0.767 1.    0.8  ]\n",
            " [0.    0.    0.    0.2  ]\n",
            " [0.    0.    0.    0.   ]]\n"
          ]
        }
      ]
    },
    {
      "cell_type": "code",
      "source": [
        "#August\n",
        "august = np.matrix([[1,\t0.359,\t0,\t0.250],[0,\t0.641,\t1,\t0.250],[0, 0,\t0,\t0.250],[0,\t0,\t0,\t0.250]])\n",
        "print(august)"
      ],
      "metadata": {
        "colab": {
          "base_uri": "https://localhost:8080/"
        },
        "id": "bEuNZB5Ak26X",
        "outputId": "5ea43ca5-7802-44ee-922f-314e0a4d85bd"
      },
      "id": "bEuNZB5Ak26X",
      "execution_count": 10,
      "outputs": [
        {
          "output_type": "stream",
          "name": "stdout",
          "text": [
            "[[1.    0.359 0.    0.25 ]\n",
            " [0.    0.641 1.    0.25 ]\n",
            " [0.    0.    0.    0.25 ]\n",
            " [0.    0.    0.    0.25 ]]\n"
          ]
        }
      ]
    },
    {
      "cell_type": "code",
      "source": [
        "#September\n",
        "september = np.matrix([[1, 0.923, 0.25,\t0.25], [0,\t0.077,\t0.25,\t0.25], [0.000,\t0.000,\t0.25,\t0.25], [0.000,\t0.000,\t0.25,\t0.25]])\n",
        "print(september)"
      ],
      "metadata": {
        "colab": {
          "base_uri": "https://localhost:8080/"
        },
        "id": "tuatd1-yPzsi",
        "outputId": "e1bac02f-60f0-40de-c01d-08afea2e633b"
      },
      "id": "tuatd1-yPzsi",
      "execution_count": 11,
      "outputs": [
        {
          "output_type": "stream",
          "name": "stdout",
          "text": [
            "[[1.    0.923 0.25  0.25 ]\n",
            " [0.    0.077 0.25  0.25 ]\n",
            " [0.    0.    0.25  0.25 ]\n",
            " [0.    0.    0.25  0.25 ]]\n"
          ]
        }
      ]
    },
    {
      "cell_type": "code",
      "source": [
        "#October\n",
        "october = np.matrix([[1,\t0.500,\t0.250,\t0.250],[0,\t0.500,\t0.250,\t0.250],[0,\t0,\t0.250,\t0.250],[0,\t0,\t0.250,\t0.250]])\n",
        "print(october)"
      ],
      "metadata": {
        "colab": {
          "base_uri": "https://localhost:8080/"
        },
        "id": "kDI1YOvnk-S5",
        "outputId": "a67b0042-348d-4f9e-a9d0-3e4570b6823c"
      },
      "id": "kDI1YOvnk-S5",
      "execution_count": 12,
      "outputs": [
        {
          "output_type": "stream",
          "name": "stdout",
          "text": [
            "[[1.   0.5  0.25 0.25]\n",
            " [0.   0.5  0.25 0.25]\n",
            " [0.   0.   0.25 0.25]\n",
            " [0.   0.   0.25 0.25]]\n"
          ]
        }
      ]
    },
    {
      "cell_type": "code",
      "source": [
        "#November\n",
        "november = np.matrix([[0.980,\t1,\t0.250,\t0.250],[0.020,\t0,\t0.250,\t0.250],[0,\t0,\t0.250,\t0.250],[0,\t0,\t0.250,\t0.250]])\n",
        "print(november)"
      ],
      "metadata": {
        "colab": {
          "base_uri": "https://localhost:8080/"
        },
        "id": "7rPDgdg7k-a3",
        "outputId": "7c81b145-a36a-4074-cf0f-136ba3d4b12a"
      },
      "id": "7rPDgdg7k-a3",
      "execution_count": 13,
      "outputs": [
        {
          "output_type": "stream",
          "name": "stdout",
          "text": [
            "[[0.98 1.   0.25 0.25]\n",
            " [0.02 0.   0.25 0.25]\n",
            " [0.   0.   0.25 0.25]\n",
            " [0.   0.   0.25 0.25]]\n"
          ]
        }
      ]
    },
    {
      "cell_type": "code",
      "source": [
        "#December\n",
        "december = np.matrix([[0.938, 0, 0.25, 0.25],[0.063,\t1.000,\t0.25,\t0.25], [0.000,\t0.000,\t0.25,\t0.25], [0.000,\t0.000,\t0.25,\t0.25]])\n",
        "print(december)"
      ],
      "metadata": {
        "colab": {
          "base_uri": "https://localhost:8080/"
        },
        "id": "U2WODIJZPz0c",
        "outputId": "f7e8202c-42df-433c-d08a-902787b8aa89"
      },
      "id": "U2WODIJZPz0c",
      "execution_count": 14,
      "outputs": [
        {
          "output_type": "stream",
          "name": "stdout",
          "text": [
            "[[0.938 0.    0.25  0.25 ]\n",
            " [0.063 1.    0.25  0.25 ]\n",
            " [0.    0.    0.25  0.25 ]\n",
            " [0.    0.    0.25  0.25 ]]\n"
          ]
        }
      ]
    },
    {
      "cell_type": "code",
      "source": [
        "tot=np.matrix([[251/302,\t51/208,\t0/43,\t0/46],[50/302,\t124/208,\t24/43,\t10/46],[1/302,\t17/208,\t11/43,\t14/46],[0/302,\t16/208,\t8/43,\t22/46]])\n",
        "tottot = np.linalg.matrix_power(tot, 1000)\n",
        "print(tottot)"
      ],
      "metadata": {
        "id": "YkeT827Sy5GK",
        "colab": {
          "base_uri": "https://localhost:8080/"
        },
        "outputId": "7644097b-c107-4719-9e64-9f5c8742fcee"
      },
      "id": "YkeT827Sy5GK",
      "execution_count": null,
      "outputs": [
        {
          "output_type": "stream",
          "name": "stdout",
          "text": [
            "[[0.50417362 0.50417362 0.50417362 0.50417362]\n",
            " [0.34724541 0.34724541 0.34724541 0.34724541]\n",
            " [0.07178631 0.07178631 0.07178631 0.07178631]\n",
            " [0.07679466 0.07679466 0.07679466 0.07679466]]\n"
          ]
        }
      ]
    },
    {
      "cell_type": "code",
      "source": [],
      "metadata": {
        "id": "AUG9fIs4d93s"
      },
      "id": "AUG9fIs4d93s",
      "execution_count": null,
      "outputs": []
    }
  ],
  "metadata": {
    "kernelspec": {
      "display_name": "Python 3 (ipykernel)",
      "language": "python",
      "name": "python3"
    },
    "language_info": {
      "codemirror_mode": {
        "name": "ipython",
        "version": 3
      },
      "file_extension": ".py",
      "mimetype": "text/x-python",
      "name": "python",
      "nbconvert_exporter": "python",
      "pygments_lexer": "ipython3",
      "version": "3.9.13"
    },
    "colab": {
      "provenance": []
    }
  },
  "nbformat": 4,
  "nbformat_minor": 5
}