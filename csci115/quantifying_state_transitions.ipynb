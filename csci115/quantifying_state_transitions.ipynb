{
 "cells": [
  {
   "cell_type": "code",
   "execution_count": 9,
   "id": "d63362a1",
   "metadata": {},
   "outputs": [
    {
     "name": "stdout",
     "output_type": "stream",
     "text": [
      "[[ 2  0  0  0]\n",
      " [ 9 14  0  1]\n",
      " [ 1  3  4  0]\n",
      " [ 0  7  4  5]]\n"
     ]
    }
   ],
   "source": [
    "import pandas as pd\n",
    "import numpy as np\n",
    "\n",
    "df = pd.read_csv('monthly.csv', header=None)\n",
    "array = df.to_numpy()\n",
    "\n",
    "NDND=[0,0,0,0,0,0,0,0,0,0,0,0]\n",
    "NDMiD=[0,0,0,0,0,0,0,0,0,0,0,0]\n",
    "NDMoD=[0,0,0,0,0,0,0,0,0,0,0,0]\n",
    "NDSED=[0,0,0,0,0,0,0,0,0,0,0,0]\n",
    "MiDND=[0,0,0,0,0,0,0,0,0,0,0,0]\n",
    "MiDMiD=[0,0,0,0,0,0,0,0,0,0,0,0]\n",
    "MiDMoD=[0,0,0,0,0,0,0,0,0,0,0,0]\n",
    "MiDSED=[0,0,0,0,0,0,0,0,0,0,0,0]\n",
    "MoDND=[0,0,0,0,0,0,0,0,0,0,0,0]\n",
    "MoDMiD=[0,0,0,0,0,0,0,0,0,0,0,0]\n",
    "MoDMoD=[0,0,0,0,0,0,0,0,0,0,0,0]\n",
    "MoDSED=[0,0,0,0,0,0,0,0,0,0,0,0]\n",
    "SEDND=[0,0,0,0,0,0,0,0,0,0,0,0]\n",
    "SEDMiD=[0,0,0,0,0,0,0,0,0,0,0,0]\n",
    "SEDMoD=[0,0,0,0,0,0,0,0,0,0,0,0]\n",
    "SEDSED=[0,0,0,0,0,0,0,0,0,0,0,0]\n",
    "\n",
    "i=0\n",
    "while(i<=599):\n",
    "    month=4\n",
    "    if (array[i][0]==month):\n",
    "        if (array[i][1]==\"Non-drought\"):\n",
    "            if (array[i+1][1]==\"Non-drought\"):\n",
    "                NDND[month-1]=NDND[month-1]+1\n",
    "            elif (array[i+1][1]==\"Mild Drought\"):\n",
    "                NDMiD[month-1]=NDMiD[month-1]+1\n",
    "            elif (array[i+1][1]==\"Moderate Drought\"):\n",
    "                NDMoD[month-1]=NDMoD[month-1]+1\n",
    "            elif (array[i+1][1]==\"Severe Drought\"):\n",
    "                NDSED[month-1]=NDSED[month-1]+1\n",
    "        if (array[i][1]==\"Mild Drought\"):\n",
    "            if (array[i+1][1]==\"Non-drought\"):\n",
    "                MiDND[month-1]=MiDND[month-1]+1\n",
    "            elif (array[i+1][1]==\"Mild Drought\"):\n",
    "                MiDMiD[month-1]=MiDMiD[month-1]+1\n",
    "            elif (array[i+1][1]==\"Moderate Drought\"):\n",
    "                MiDMoD[month-1]=MiDMoD[month-1]+1\n",
    "            elif (array[i+1][1]==\"Severe Drought\"):\n",
    "                MiDSED[month-1]=MiDSED[month-1]+1\n",
    "        if (array[i][1]==\"Moderate Drought\"):\n",
    "            if (array[i+1][1]==\"Non-drought\"):\n",
    "                MoDND[month-1]=MoDND[month-1]+1\n",
    "            elif (array[i+1][1]==\"Mild Drought\"):\n",
    "                MoDMiD[month-1]=MoDMiD[month-1]+1\n",
    "            elif (array[i+1][1]==\"Moderate Drought\"):\n",
    "                MoDMoD[month-1]=MoDMoD[month-1]+1\n",
    "            elif (array[i+1][1]==\"Severe Drought\"):\n",
    "                MoDSED[month-1]=MoDSED[month-1]+1\n",
    "        if (array[i][1]==\"Severe Drought\"):\n",
    "            if (array[i+1][1]==\"Non-drought\"):\n",
    "                SEDND[month-1]=SEDND[month-1]+1\n",
    "            elif (array[i+1][1]==\"Mild Drought\"):\n",
    "                SEDMiD[month-1]=SEDMiD[month-1]+1\n",
    "            elif (array[i+1][1]==\"Moderate Drought\"):\n",
    "                SEDMoD[month-1]=SEDMoD[month-1]+1\n",
    "            elif (array[i+1][1]==\"Severe Drought\"):\n",
    "                SEDSED[month-1]=SEDSED[month-1]+1\n",
    "                \n",
    "    i=i+1\n",
    "                \n",
    "monthlyprob = np.matrix([[NDND[month-1],MiDND[month-1],MoDND[month-1],SEDND[month-1]],\n",
    "               [NDMiD[month-1],MiDMiD[month-1],MoDMiD[month-1],SEDMiD[month-1]],\n",
    "               [NDMoD[month-1],MiDMoD[month-1],MoDMoD[month-1],SEDMoD[month-1]],\n",
    "               [NDSED[month-1],MiDSED[month-1],MoDSED[month-1],SEDSED[month-1]]])\n",
    "print(monthlyprob)\n"
   ]
  },
  {
   "cell_type": "code",
   "execution_count": 11,
   "id": "014cf114",
   "metadata": {},
   "outputs": [
    {
     "name": "stdout",
     "output_type": "stream",
     "text": [
      "303\n",
      "251\n"
     ]
    }
   ],
   "source": [
    "i=0\n",
    "nd=0\n",
    "mid=0\n",
    "mod=0\n",
    "sed=0\n",
    "ndnd=0\n",
    "midmid=0\n",
    "modmod=0\n",
    "sedsed=0\n",
    "while(i<=599):\n",
    "    if (array[i][1]==\"Non-drought\"):\n",
    "        nd=nd+1\n",
    "        if (array[i+1][1]==\"Non-drought\"):\n",
    "            ndnd=ndnd+1\n",
    "    i=i+1\n",
    "print(nd)\n",
    "print(ndnd)            "
   ]
  },
  {
   "cell_type": "code",
   "execution_count": null,
   "id": "a7cd2da3",
   "metadata": {},
   "outputs": [],
   "source": []
  }
 ],
 "metadata": {
  "kernelspec": {
   "display_name": "Python 3 (ipykernel)",
   "language": "python",
   "name": "python3"
  },
  "language_info": {
   "codemirror_mode": {
    "name": "ipython",
    "version": 3
   },
   "file_extension": ".py",
   "mimetype": "text/x-python",
   "name": "python",
   "nbconvert_exporter": "python",
   "pygments_lexer": "ipython3",
   "version": "3.9.13"
  }
 },
 "nbformat": 4,
 "nbformat_minor": 5
}
